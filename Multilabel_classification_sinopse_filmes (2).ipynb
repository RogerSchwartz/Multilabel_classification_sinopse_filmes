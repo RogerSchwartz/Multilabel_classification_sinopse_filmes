{
  "cells": [
    {
      "cell_type": "markdown",
      "metadata": {
        "id": "2sfp4VHTyb2M"
      },
      "source": [
        "# Predicting movie genre from a synopsis."
      ]
    },
    {
      "cell_type": "code",
      "execution_count": null,
      "metadata": {
        "id": "a4pcVn_5yb2S"
      },
      "outputs": [],
      "source": [
        "import pandas as pd\n",
        "import chardet\n",
        "import re as re\n",
        "import warnings\n",
        "import numpy as np\n",
        "import matplotlib.pyplot as plt\n",
        "%matplotlib inline\n",
        "from __future__ import division\n",
        "\n",
        "from scipy.stats import expon as sp_expon\n",
        "from scipy.stats import randint as sp_randint\n",
        "from scipy.stats import uniform as sp_uniform\n",
        "\n",
        "from sklearn.base import MetaEstimatorMixin,BaseEstimator, TransformerMixin,ClassifierMixin\n",
        "from sklearn.decomposition import TruncatedSVD\n",
        "from sklearn.ensemble import VotingClassifier\n",
        "from sklearn.feature_extraction.text import CountVectorizer, TfidfVectorizer\n",
        "from sklearn.feature_selection import SelectKBest, SelectPercentile, chi2, f_classif, mutual_info_classif\n",
        "from sklearn.linear_model import LinearRegression\n",
        "from sklearn.metrics import f1_score, make_scorer\n",
        "from sklearn.model_selection import train_test_split, GridSearchCV, RandomizedSearchCV\n",
        "from sklearn.multiclass import OneVsRestClassifier\n",
        "from sklearn.multioutput import MultiOutputClassifier\n",
        "from sklearn.pipeline import Pipeline\n",
        "from sklearn.preprocessing import FunctionTransformer, MultiLabelBinarizer\n",
        "\n",
        "\n",
        "#Models\n",
        "from sklearn.dummy import DummyClassifier\n",
        "from sklearn.naive_bayes import MultinomialNB\n",
        "from sklearn.ensemble import RandomForestClassifier\n",
        "from sklearn.linear_model import SGDClassifier\n",
        "from sklearn.svm import LinearSVC, SVC"
      ]
    },
    {
      "cell_type": "markdown",
      "metadata": {
        "id": "-orjfdPRyb2U"
      },
      "source": [
        "## 1. Importando dados de filmes e preparando para análise"
      ]
    },
    {
      "cell_type": "code",
      "execution_count": null,
      "metadata": {
        "id": "4wF0WBCAyb2V"
      },
      "outputs": [],
      "source": [
        "movieData = pd.read_csv('movie.metadata.tsv', sep='\\t', header=0, encoding='utf-8',\n",
        "                        names=[\"WikipediaID\", \"FreebaseID\", \"name\", \"date\", \"boxOffice\", \"runtime\",\n",
        "                               \"languages\", \"countries\", \"genres\"],\n",
        "                        usecols=[\"WikipediaID\", \"name\", \"date\", \"languages\", \"countries\", \"genres\"],\n",
        "                        index_col=0)\n",
        "movieData.dropna(subset=['genres'], inplace=True)"
      ]
    },
    {
      "cell_type": "code",
      "execution_count": null,
      "metadata": {
        "id": "vOsJUTJTdxE9"
      },
      "outputs": [],
      "source": [
        "movieData.head()"
      ]
    },
    {
      "cell_type": "markdown",
      "metadata": {
        "id": "nT4dVK7Kyb2d"
      },
      "source": [
        "extrair as informações do gênero\n",
        "\n",
        "\n"
      ]
    },
    {
      "cell_type": "code",
      "execution_count": null,
      "metadata": {
        "colab": {
          "base_uri": "https://localhost:8080/"
        },
        "id": "JjGopUk3yb2d",
        "outputId": "4ebd6770-8e4e-47e4-fe9b-a2d6425099d6"
      },
      "outputs": [
        {
          "data": {
            "text/plain": [
              "['Mystery', 'Biographical film', 'Drama', 'Crime Drama']"
            ]
          },
          "execution_count": 5,
          "metadata": {},
          "output_type": "execute_result"
        }
      ],
      "source": [
        "def extractTags(string):\n",
        "    return re.findall('\"([\\w\\s]+)\"', string)\n",
        "\n",
        "movieData[\"genres\"] = movieData[\"genres\"].apply(extractTags)\n",
        "movieData[\"genres\"].loc[3196793]"
      ]
    },
    {
      "cell_type": "code",
      "execution_count": null,
      "metadata": {
        "colab": {
          "base_uri": "https://localhost:8080/"
        },
        "id": "HE-V5KVD3Bcx",
        "outputId": "e5839961-5623-4ec0-d46f-367ccf050f9f"
      },
      "outputs": [
        {
          "data": {
            "text/plain": [
              "['Mystery', 'Biographical film', 'Drama', 'Crime Drama']"
            ]
          },
          "execution_count": 6,
          "metadata": {},
          "output_type": "execute_result"
        }
      ],
      "source": [
        "movieData[\"genres\"].loc[3196793]"
      ]
    },
    {
      "cell_type": "markdown",
      "metadata": {
        "id": "l3TUzmeZyb2f"
      },
      "source": [
        "Importando as sinópses para predição."
      ]
    },
    {
      "cell_type": "code",
      "execution_count": null,
      "metadata": {
        "id": "_DM7F-zgNp8M"
      },
      "outputs": [],
      "source": [
        "file_object  = open('plot_summaries.txt', 'r')"
      ]
    },
    {
      "cell_type": "code",
      "execution_count": null,
      "metadata": {
        "colab": {
          "base_uri": "https://localhost:8080/"
        },
        "id": "Y5WsTMocNrHZ",
        "outputId": "b8d6e88e-732b-411f-bde1-316a01b9ecb2"
      },
      "outputs": [
        {
          "data": {
            "text/plain": [
              "<_io.TextIOWrapper name='plot_summaries.txt' mode='r' encoding='UTF-8'>"
            ]
          },
          "execution_count": 9,
          "metadata": {},
          "output_type": "execute_result"
        }
      ],
      "source": [
        "file_object"
      ]
    },
    {
      "cell_type": "code",
      "execution_count": null,
      "metadata": {
        "colab": {
          "base_uri": "https://localhost:8080/"
        },
        "id": "hXHNCdNsN_UL",
        "outputId": "5c11f3c8-8cee-4300-d668-88944a7cfef4"
      },
      "outputs": [
        {
          "name": "stdout",
          "output_type": "stream",
          "text": [
            "{'encoding': 'utf-8', 'confidence': 0.99, 'language': ''}\n"
          ]
        }
      ],
      "source": [
        "import chardet\n",
        "\n",
        "file_object = open('plot_summaries.txt', 'rb')\n",
        "rawdata = file_object.read()\n",
        "encoding_info = chardet.detect(rawdata)\n",
        "file_object.close()\n",
        "\n",
        "print(encoding_info)"
      ]
    },
    {
      "cell_type": "code",
      "execution_count": null,
      "metadata": {
        "id": "cexMSVSIyb2g"
      },
      "outputs": [],
      "source": [
        "plot = pd.read_csv(\"plot_summaries.txt\", sep='\\t', encoding='utf-8',\n",
        "                   names=[\"ident\", \"synopsis\"], index_col=0)"
      ]
    },
    {
      "cell_type": "markdown",
      "metadata": {
        "id": "c3-qLo6Zyb2h"
      },
      "source": [
        "Combinando a sinopse com o resto dos dados."
      ]
    },
    {
      "cell_type": "code",
      "execution_count": null,
      "metadata": {
        "colab": {
          "base_uri": "https://localhost:8080/",
          "height": 324
        },
        "id": "M-K6VAhbyb2h",
        "outputId": "88bdb636-8f3f-4de6-a929-090993c9402d"
      },
      "outputs": [
        {
          "data": {
            "application/vnd.google.colaboratory.intrinsic+json": {
              "summary": "{\n  \"name\": \"result\",\n  \"rows\": 26367,\n  \"fields\": [\n    {\n      \"column\": \"WikipediaID\",\n      \"properties\": {\n        \"dtype\": \"number\",\n        \"std\": 10275972,\n        \"min\": 3217,\n        \"max\": 37501922,\n        \"num_unique_values\": 24774,\n        \"samples\": [\n          15722751,\n          23752458,\n          33902886\n        ],\n        \"semantic_type\": \"\",\n        \"description\": \"\"\n      }\n    },\n    {\n      \"column\": \"name\",\n      \"properties\": {\n        \"dtype\": \"string\",\n        \"num_unique_values\": 23603,\n        \"samples\": [\n          \"Ulli Lommel's Black Dahlia\",\n          \"Payment Deferred\",\n          \"After Pilkington\"\n        ],\n        \"semantic_type\": \"\",\n        \"description\": \"\"\n      }\n    },\n    {\n      \"column\": \"date\",\n      \"properties\": {\n        \"dtype\": \"category\",\n        \"num_unique_values\": 10511,\n        \"samples\": [\n          \"1955-06-01\",\n          \"1986-11-29\",\n          \"1938-09-02\"\n        ],\n        \"semantic_type\": \"\",\n        \"description\": \"\"\n      }\n    },\n    {\n      \"column\": \"languages\",\n      \"properties\": {\n        \"dtype\": \"object\",\n        \"semantic_type\": \"\",\n        \"description\": \"\"\n      }\n    },\n    {\n      \"column\": \"countries\",\n      \"properties\": {\n        \"dtype\": \"object\",\n        \"semantic_type\": \"\",\n        \"description\": \"\"\n      }\n    },\n    {\n      \"column\": \"genres\",\n      \"properties\": {\n        \"dtype\": \"object\",\n        \"semantic_type\": \"\",\n        \"description\": \"\"\n      }\n    },\n    {\n      \"column\": \"synopsis\",\n      \"properties\": {\n        \"dtype\": \"string\",\n        \"num_unique_values\": 24771,\n        \"samples\": [\n          \"Crown Prince Rudolf of Austria  clashes with his father, Emperor Franz Joseph I of Austria , over implementing progressive policies for their country. Ava Gardner plays his mother Empress Elisabeth. Rudolf soon feels he is a man born at the wrong time in a country that does not realize the need for social reform. The Prince of Wales , later to become Britain's King Edward VII, provides comic relief. Rudolf finds refuge from a loveless marriage with Princess St\\u00e9phanie  by taking a mistress, Baroness Maria Vetsera . Their untimely demise at Mayerling, the imperial family's hunting lodge, is cloaked in mystery, but the film's ending suggests the two lovers made a suicide pact when they decided they could not live in a world without love or prospects for peace.\",\n          \"{{see also}}{{see also}} Jesse Aarons  is a seventh-grade aspiring artist living with his financially struggling family in Lark Creek, Virginia. He rides the bus to his elementary school with his little sister May Belle , where he avoids the school bully, Janice Avery . In class, Jesse is teased by classmates Scott Hoager  and Gary Fulcher , and meets a new student his age by the name Leslie Burke . At recess, Jesse enters a running event, for which he had been training at home. Leslie also enters and manages to beat all the boys, much to Jesse's irritation. On the way home, Jesse and Leslie learn that they are next-door neighbors. Later in the evening, Jesse becomes frustrated when he finds that May Belle drew in his notebook, but his mom  who favors her daughters and his strict father  sides with her. He later watches them gardening together, disappointed that his father never spends time with him. The next day at school, Leslie compliments Jesse's drawing ability after seeing his notebook, and they soon become best friends. Every day after school they venture into the woods and swing across a creek on a rope. Jesse and Leslie find an abandoned tree house and a broken down truck on the other side, and invent a new world, which Leslie names \\\"Terabithia\\\". The fantasy world, which is a reflection on their lives, comes to life through their eyes as they explore the surroundings and spend their free time in the tree house getting to know each other, ruling Terabithia as King and Queen. Leslie gives Jesse an art kit for his birthday, much to his delight. Later, he gives her a puppy, whom she decides to name Prince Terrien . Once in Terabithia, they fight with various creatures, including a troll resembling Janice. In one particular scene, Leslie walks onto a log and shouts \\\"We rule Terabithia and nothing crushes us!\\\" At school, Janice puts a fee on entering the girls' bathroom. Leslie becomes frustrated by her fee and she and Jesse play a prank on Janice. A while later Janice pranks Jesse by pretending to fall over and accuses Jesse of tripping her over on purpose. Jesse is forced off the bus. Once Leslie's parents finish writing their book, she and Jesse help paint their house. Jesse is impressed by her parents' happiness, and smiles as he watches their family. At school on Friday, Leslie hears Janice Avery crying in the bathroom. After Leslie talks with her, she discovers that the reason why Janice is a bully is that she is abused by her father, and they become friends. Jesse and Leslie then take P.T. to Terabithia, where they fight off several creatures resembling students at their school. They decide to go home when it starts raining and the creek gets higher than ever, and Jesse realizes that he has started having feelings for Leslie as she runs back to her house, for the last time. The next morning, Ms. Edmunds , Jesse's music teacher, calls to invite him on a one-on-one field trip to an art museum. Jesse tries to ask his mother's permission; however, she is half-asleep and he takes her mumbling as approval. Jesse does not ask Leslie to accompany him, and merely looks at her house as they drive by. When he returns home, Jesse finds that his father and mother are worried sick because they did not know where he was. His father tells him that Leslie drowned in the creek after falling in  because the rope broke in the same morning when Jesse went to the museum. The family therefore thought that Jesse had drowned too. Jesse is heartbroken, and says he doesn't believe that Leslie drowned. The following day, Jesse and his parents visit the Burke family home to pay their respects. Leslie's father, Bill Burke , tells Jesse that she loved him, and thanks him for being a very good friend to her, since she had trouble making friends at her old school. Jesse feels overwhelming guilt for Leslie's death because he didn't invite her to the museum trip and for not being there for her. He runs back into the forest, and breaks down in tears. His father tells him that it's not his fault and says, \\\"She brought you something special when she came here, didn't she? That's what you hold on to. That's how you keep her alive\\\". Jesse decides to re-imagine Terabithia and builds a bridge with a sign saying \\\"Nothing Crushes Us\\\" across the creek to welcome a new ruler. He invites his sister May Belle to enter Terabithia; she is delighted because she was previously denied every opportunity to enter. She and Jesse bring back Terabithia in even greater splendor, with Jesse as king and his sister as princess.\",\n          \"The story revolves around 11-year-old Jessica , whose mother died when she was three years old. Her father Jim  is a workaholic with little time for his daughter. Just before the Christmas holiday season, Jessica wins a free wish from a wishing well. Her wish for a mother for Christmas is granted by Philomena  and Amy , a department store mannequin, is brought to life to be a mom for Jessica.\"\n        ],\n        \"semantic_type\": \"\",\n        \"description\": \"\"\n      }\n    }\n  ]\n}",
              "type": "dataframe",
              "variable_name": "result"
            },
            "text/html": [
              "\n",
              "  <div id=\"df-e9ae6846-ccf7-44e8-b5a3-07924ebefefc\" class=\"colab-df-container\">\n",
              "    <div>\n",
              "<style scoped>\n",
              "    .dataframe tbody tr th:only-of-type {\n",
              "        vertical-align: middle;\n",
              "    }\n",
              "\n",
              "    .dataframe tbody tr th {\n",
              "        vertical-align: top;\n",
              "    }\n",
              "\n",
              "    .dataframe thead th {\n",
              "        text-align: right;\n",
              "    }\n",
              "</style>\n",
              "<table border=\"1\" class=\"dataframe\">\n",
              "  <thead>\n",
              "    <tr style=\"text-align: right;\">\n",
              "      <th></th>\n",
              "      <th>name</th>\n",
              "      <th>date</th>\n",
              "      <th>languages</th>\n",
              "      <th>countries</th>\n",
              "      <th>genres</th>\n",
              "      <th>synopsis</th>\n",
              "    </tr>\n",
              "    <tr>\n",
              "      <th>WikipediaID</th>\n",
              "      <th></th>\n",
              "      <th></th>\n",
              "      <th></th>\n",
              "      <th></th>\n",
              "      <th></th>\n",
              "      <th></th>\n",
              "    </tr>\n",
              "  </thead>\n",
              "  <tbody>\n",
              "    <tr>\n",
              "      <th>3217</th>\n",
              "      <td>Army of Darkness</td>\n",
              "      <td>1992-10-09</td>\n",
              "      <td>[English Language]</td>\n",
              "      <td>[United States of America]</td>\n",
              "      <td>[Cult, Horror, Stop motion, Costume drama, Fan...</td>\n",
              "      <td>After being pulled through a time portal, Ash ...</td>\n",
              "    </tr>\n",
              "    <tr>\n",
              "      <th>3333</th>\n",
              "      <td>The Birth of a Nation</td>\n",
              "      <td>1915</td>\n",
              "      <td>[Silent film, English Language]</td>\n",
              "      <td>[United States of America]</td>\n",
              "      <td>[Silent film, Indie, Costume drama, Epic, Dram...</td>\n",
              "      <td>The film follows two juxtaposed families: the...</td>\n",
              "    </tr>\n",
              "    <tr>\n",
              "      <th>3746</th>\n",
              "      <td>Blade Runner</td>\n",
              "      <td>1982-06-25</td>\n",
              "      <td>[Japanese Language, Cantonese, English Languag...</td>\n",
              "      <td>[United States of America, Hong Kong]</td>\n",
              "      <td>[Thriller, Cyberpunk, Science Fiction, Future ...</td>\n",
              "      <td>{{Hatnote}} In Los Angeles, November 2019, ret...</td>\n",
              "    </tr>\n",
              "    <tr>\n",
              "      <th>3746</th>\n",
              "      <td>Blade Runner</td>\n",
              "      <td>1982-06-25</td>\n",
              "      <td>[Japanese Language, Cantonese, English Languag...</td>\n",
              "      <td>[United States of America, Hong Kong]</td>\n",
              "      <td>[Thriller, Cyberpunk, Science Fiction, Future ...</td>\n",
              "      <td>{{Hatnote}} In Los Angeles, November 2019, ret...</td>\n",
              "    </tr>\n",
              "    <tr>\n",
              "      <th>3837</th>\n",
              "      <td>Blazing Saddles</td>\n",
              "      <td>1974-02-07</td>\n",
              "      <td>[Yiddish Language, English Language]</td>\n",
              "      <td>[United States of America]</td>\n",
              "      <td>[Western, Satire, Comedy]</td>\n",
              "      <td>In the American Old West of 1874, construction...</td>\n",
              "    </tr>\n",
              "  </tbody>\n",
              "</table>\n",
              "</div>\n",
              "    <div class=\"colab-df-buttons\">\n",
              "\n",
              "  <div class=\"colab-df-container\">\n",
              "    <button class=\"colab-df-convert\" onclick=\"convertToInteractive('df-e9ae6846-ccf7-44e8-b5a3-07924ebefefc')\"\n",
              "            title=\"Convert this dataframe to an interactive table.\"\n",
              "            style=\"display:none;\">\n",
              "\n",
              "  <svg xmlns=\"http://www.w3.org/2000/svg\" height=\"24px\" viewBox=\"0 -960 960 960\">\n",
              "    <path d=\"M120-120v-720h720v720H120Zm60-500h600v-160H180v160Zm220 220h160v-160H400v160Zm0 220h160v-160H400v160ZM180-400h160v-160H180v160Zm440 0h160v-160H620v160ZM180-180h160v-160H180v160Zm440 0h160v-160H620v160Z\"/>\n",
              "  </svg>\n",
              "    </button>\n",
              "\n",
              "  <style>\n",
              "    .colab-df-container {\n",
              "      display:flex;\n",
              "      gap: 12px;\n",
              "    }\n",
              "\n",
              "    .colab-df-convert {\n",
              "      background-color: #E8F0FE;\n",
              "      border: none;\n",
              "      border-radius: 50%;\n",
              "      cursor: pointer;\n",
              "      display: none;\n",
              "      fill: #1967D2;\n",
              "      height: 32px;\n",
              "      padding: 0 0 0 0;\n",
              "      width: 32px;\n",
              "    }\n",
              "\n",
              "    .colab-df-convert:hover {\n",
              "      background-color: #E2EBFA;\n",
              "      box-shadow: 0px 1px 2px rgba(60, 64, 67, 0.3), 0px 1px 3px 1px rgba(60, 64, 67, 0.15);\n",
              "      fill: #174EA6;\n",
              "    }\n",
              "\n",
              "    .colab-df-buttons div {\n",
              "      margin-bottom: 4px;\n",
              "    }\n",
              "\n",
              "    [theme=dark] .colab-df-convert {\n",
              "      background-color: #3B4455;\n",
              "      fill: #D2E3FC;\n",
              "    }\n",
              "\n",
              "    [theme=dark] .colab-df-convert:hover {\n",
              "      background-color: #434B5C;\n",
              "      box-shadow: 0px 1px 3px 1px rgba(0, 0, 0, 0.15);\n",
              "      filter: drop-shadow(0px 1px 2px rgba(0, 0, 0, 0.3));\n",
              "      fill: #FFFFFF;\n",
              "    }\n",
              "  </style>\n",
              "\n",
              "    <script>\n",
              "      const buttonEl =\n",
              "        document.querySelector('#df-e9ae6846-ccf7-44e8-b5a3-07924ebefefc button.colab-df-convert');\n",
              "      buttonEl.style.display =\n",
              "        google.colab.kernel.accessAllowed ? 'block' : 'none';\n",
              "\n",
              "      async function convertToInteractive(key) {\n",
              "        const element = document.querySelector('#df-e9ae6846-ccf7-44e8-b5a3-07924ebefefc');\n",
              "        const dataTable =\n",
              "          await google.colab.kernel.invokeFunction('convertToInteractive',\n",
              "                                                    [key], {});\n",
              "        if (!dataTable) return;\n",
              "\n",
              "        const docLinkHtml = 'Like what you see? Visit the ' +\n",
              "          '<a target=\"_blank\" href=https://colab.research.google.com/notebooks/data_table.ipynb>data table notebook</a>'\n",
              "          + ' to learn more about interactive tables.';\n",
              "        element.innerHTML = '';\n",
              "        dataTable['output_type'] = 'display_data';\n",
              "        await google.colab.output.renderOutput(dataTable, element);\n",
              "        const docLink = document.createElement('div');\n",
              "        docLink.innerHTML = docLinkHtml;\n",
              "        element.appendChild(docLink);\n",
              "      }\n",
              "    </script>\n",
              "  </div>\n",
              "\n",
              "\n",
              "<div id=\"df-0c0906e0-c922-42a6-89a1-5abd0b0ceee8\">\n",
              "  <button class=\"colab-df-quickchart\" onclick=\"quickchart('df-0c0906e0-c922-42a6-89a1-5abd0b0ceee8')\"\n",
              "            title=\"Suggest charts\"\n",
              "            style=\"display:none;\">\n",
              "\n",
              "<svg xmlns=\"http://www.w3.org/2000/svg\" height=\"24px\"viewBox=\"0 0 24 24\"\n",
              "     width=\"24px\">\n",
              "    <g>\n",
              "        <path d=\"M19 3H5c-1.1 0-2 .9-2 2v14c0 1.1.9 2 2 2h14c1.1 0 2-.9 2-2V5c0-1.1-.9-2-2-2zM9 17H7v-7h2v7zm4 0h-2V7h2v10zm4 0h-2v-4h2v4z\"/>\n",
              "    </g>\n",
              "</svg>\n",
              "  </button>\n",
              "\n",
              "<style>\n",
              "  .colab-df-quickchart {\n",
              "      --bg-color: #E8F0FE;\n",
              "      --fill-color: #1967D2;\n",
              "      --hover-bg-color: #E2EBFA;\n",
              "      --hover-fill-color: #174EA6;\n",
              "      --disabled-fill-color: #AAA;\n",
              "      --disabled-bg-color: #DDD;\n",
              "  }\n",
              "\n",
              "  [theme=dark] .colab-df-quickchart {\n",
              "      --bg-color: #3B4455;\n",
              "      --fill-color: #D2E3FC;\n",
              "      --hover-bg-color: #434B5C;\n",
              "      --hover-fill-color: #FFFFFF;\n",
              "      --disabled-bg-color: #3B4455;\n",
              "      --disabled-fill-color: #666;\n",
              "  }\n",
              "\n",
              "  .colab-df-quickchart {\n",
              "    background-color: var(--bg-color);\n",
              "    border: none;\n",
              "    border-radius: 50%;\n",
              "    cursor: pointer;\n",
              "    display: none;\n",
              "    fill: var(--fill-color);\n",
              "    height: 32px;\n",
              "    padding: 0;\n",
              "    width: 32px;\n",
              "  }\n",
              "\n",
              "  .colab-df-quickchart:hover {\n",
              "    background-color: var(--hover-bg-color);\n",
              "    box-shadow: 0 1px 2px rgba(60, 64, 67, 0.3), 0 1px 3px 1px rgba(60, 64, 67, 0.15);\n",
              "    fill: var(--button-hover-fill-color);\n",
              "  }\n",
              "\n",
              "  .colab-df-quickchart-complete:disabled,\n",
              "  .colab-df-quickchart-complete:disabled:hover {\n",
              "    background-color: var(--disabled-bg-color);\n",
              "    fill: var(--disabled-fill-color);\n",
              "    box-shadow: none;\n",
              "  }\n",
              "\n",
              "  .colab-df-spinner {\n",
              "    border: 2px solid var(--fill-color);\n",
              "    border-color: transparent;\n",
              "    border-bottom-color: var(--fill-color);\n",
              "    animation:\n",
              "      spin 1s steps(1) infinite;\n",
              "  }\n",
              "\n",
              "  @keyframes spin {\n",
              "    0% {\n",
              "      border-color: transparent;\n",
              "      border-bottom-color: var(--fill-color);\n",
              "      border-left-color: var(--fill-color);\n",
              "    }\n",
              "    20% {\n",
              "      border-color: transparent;\n",
              "      border-left-color: var(--fill-color);\n",
              "      border-top-color: var(--fill-color);\n",
              "    }\n",
              "    30% {\n",
              "      border-color: transparent;\n",
              "      border-left-color: var(--fill-color);\n",
              "      border-top-color: var(--fill-color);\n",
              "      border-right-color: var(--fill-color);\n",
              "    }\n",
              "    40% {\n",
              "      border-color: transparent;\n",
              "      border-right-color: var(--fill-color);\n",
              "      border-top-color: var(--fill-color);\n",
              "    }\n",
              "    60% {\n",
              "      border-color: transparent;\n",
              "      border-right-color: var(--fill-color);\n",
              "    }\n",
              "    80% {\n",
              "      border-color: transparent;\n",
              "      border-right-color: var(--fill-color);\n",
              "      border-bottom-color: var(--fill-color);\n",
              "    }\n",
              "    90% {\n",
              "      border-color: transparent;\n",
              "      border-bottom-color: var(--fill-color);\n",
              "    }\n",
              "  }\n",
              "</style>\n",
              "\n",
              "  <script>\n",
              "    async function quickchart(key) {\n",
              "      const quickchartButtonEl =\n",
              "        document.querySelector('#' + key + ' button');\n",
              "      quickchartButtonEl.disabled = true;  // To prevent multiple clicks.\n",
              "      quickchartButtonEl.classList.add('colab-df-spinner');\n",
              "      try {\n",
              "        const charts = await google.colab.kernel.invokeFunction(\n",
              "            'suggestCharts', [key], {});\n",
              "      } catch (error) {\n",
              "        console.error('Error during call to suggestCharts:', error);\n",
              "      }\n",
              "      quickchartButtonEl.classList.remove('colab-df-spinner');\n",
              "      quickchartButtonEl.classList.add('colab-df-quickchart-complete');\n",
              "    }\n",
              "    (() => {\n",
              "      let quickchartButtonEl =\n",
              "        document.querySelector('#df-0c0906e0-c922-42a6-89a1-5abd0b0ceee8 button');\n",
              "      quickchartButtonEl.style.display =\n",
              "        google.colab.kernel.accessAllowed ? 'block' : 'none';\n",
              "    })();\n",
              "  </script>\n",
              "</div>\n",
              "    </div>\n",
              "  </div>\n"
            ],
            "text/plain": [
              "                              name        date  \\\n",
              "WikipediaID                                      \n",
              "3217              Army of Darkness  1992-10-09   \n",
              "3333         The Birth of a Nation        1915   \n",
              "3746                  Blade Runner  1982-06-25   \n",
              "3746                  Blade Runner  1982-06-25   \n",
              "3837               Blazing Saddles  1974-02-07   \n",
              "\n",
              "                                                     languages  \\\n",
              "WikipediaID                                                      \n",
              "3217                                        [English Language]   \n",
              "3333                           [Silent film, English Language]   \n",
              "3746         [Japanese Language, Cantonese, English Languag...   \n",
              "3746         [Japanese Language, Cantonese, English Languag...   \n",
              "3837                      [Yiddish Language, English Language]   \n",
              "\n",
              "                                         countries  \\\n",
              "WikipediaID                                          \n",
              "3217                    [United States of America]   \n",
              "3333                    [United States of America]   \n",
              "3746         [United States of America, Hong Kong]   \n",
              "3746         [United States of America, Hong Kong]   \n",
              "3837                    [United States of America]   \n",
              "\n",
              "                                                        genres  \\\n",
              "WikipediaID                                                      \n",
              "3217         [Cult, Horror, Stop motion, Costume drama, Fan...   \n",
              "3333         [Silent film, Indie, Costume drama, Epic, Dram...   \n",
              "3746         [Thriller, Cyberpunk, Science Fiction, Future ...   \n",
              "3746         [Thriller, Cyberpunk, Science Fiction, Future ...   \n",
              "3837                                 [Western, Satire, Comedy]   \n",
              "\n",
              "                                                      synopsis  \n",
              "WikipediaID                                                     \n",
              "3217         After being pulled through a time portal, Ash ...  \n",
              "3333          The film follows two juxtaposed families: the...  \n",
              "3746         {{Hatnote}} In Los Angeles, November 2019, ret...  \n",
              "3746         {{Hatnote}} In Los Angeles, November 2019, ret...  \n",
              "3837         In the American Old West of 1874, construction...  "
            ]
          },
          "execution_count": 14,
          "metadata": {},
          "output_type": "execute_result"
        }
      ],
      "source": [
        "result = pd.merge(movieData, plot, left_index=True, right_index=True, how='inner')\n",
        "result.head()"
      ]
    },
    {
      "cell_type": "markdown",
      "metadata": {
        "id": "_zAooGzTyb2h"
      },
      "source": [
        "### Preparando as labels de treinamento"
      ]
    },
    {
      "cell_type": "markdown",
      "metadata": {
        "id": "L9mxo3UiB-qA"
      },
      "source": [
        "Precisamos transformar as labels, no momento elas estão assim:"
      ]
    },
    {
      "cell_type": "code",
      "execution_count": null,
      "metadata": {
        "colab": {
          "base_uri": "https://localhost:8080/"
        },
        "id": "AgDtsIi0yb2i",
        "outputId": "4f702b97-246f-4972-a39f-d20873b2c27b"
      },
      "outputs": [
        {
          "data": {
            "text/plain": [
              "WikipediaID\n",
              "3217    [Cult, Horror, Stop motion, Costume drama, Fan...\n",
              "Name: genres, dtype: object"
            ]
          },
          "execution_count": 15,
          "metadata": {},
          "output_type": "execute_result"
        }
      ],
      "source": [
        "result.genres[:1]"
      ]
    },
    {
      "cell_type": "markdown",
      "metadata": {
        "id": "C2_RN2pnCJmB"
      },
      "source": [
        "Essas labels precisam ser binarizadas, como esse é um conjunto de dados conhecido, foi possível encontrar uma lista de gêneros que não são muito descritivos de filmes, e com isso remove-los."
      ]
    },
    {
      "cell_type": "code",
      "execution_count": null,
      "metadata": {
        "id": "PHEeTDF3yb2j"
      },
      "outputs": [],
      "source": [
        "toDelete = [u'Absurdism', u'Airplanes and airports', u'Albino bias',u'Americana',u'Animal Picture',u'Animals',u'Anthology', u'Anthropology', u'Archaeology',u'Archives and records',u'Art film', u'Beach Film',u'Beach Party film', u'Bengali Cinema',u'Blaxploitation', u'Bollywood',u'British Empire Film', u'British New Wave',u'Buddy film',u'Business', u'Camp',u'Cavalry Film', u'Chase Movie', u'Chinese Movies',u'Christmas movie',u'Cold War',u'Coming of age', u'Computers',u'Cult',u'Cyberpunk', u'Dogme 95', u'Doomsday film',u'Early Black Cinema',u'Education', u'Educational', u'Environmental Science',u'Ensemble Film', u'Escape Film', u'Essay Film', u'Existentialism',u'Experimental film', u'Exploitation', u'Expressionism', u'Fan film', u'Feature film', u'Female buddy film', u'Feminist Film', u'Fictional film', u'Filipino', u'Filipino Movies', u'Film', u'Film adaptation',u'Filmed Play', u'Foreign legion',u'Giallo',u'Goat gland', u'Gothic Film',u'Gross out',u'Hagiography', u'Holiday Film', u'Indie', u'Japanese Movies', u'Journalism',u'Jungle Film', u'Juvenile Delinquency Film',\n",
        "            u'Kafkaesque', u'Kitchen sink realism', u'Latino', u'Libraries and librarians', u'Linguistics',u'Live action',u'Media Studies',u'Medical fiction',u'Mondo film',u'Movie serial',u'Mumblecore',u'Nature',u'New Hollywood', u'News',u'Northern', u'Nuclear warfare', u'Parkour in popular culture',u'Patriotic film',\n",
        "            u'Pinku eiga', u'Plague', u'Point of view shot',u'Prison',u'Private military company',u'Propaganda film',u'Reboot', u'Remake', u'Religious Film',u'Roadshow theatrical release',\n",
        "            u'School story', u'Sexploitation', u'Sponsored film', u'Short Film',u'Singing cowboy', u'Slice of life story',u'Social issues', u'Social problem film', u'Sponsored film', u'Star vehicle',u'Statutory rape', u'Steampunk', u'Stoner film',u'Superhero', u'Superhero movie', u'Surrealism',u'Sword and Sandal', u'Sword and sorcery', u'Sword and sorcery films',  u'Television movie', u'The Netherlands in World War II',u'Tragedy', u'Travel', u'World cinema', u'Wuxia',u'Z movie']"
      ]
    },
    {
      "cell_type": "markdown",
      "metadata": {
        "id": "dSzjT7R5CdTI"
      },
      "source": [
        "Outro ponto positivo de trabalhar com um conjunto de dados amplamente explorado foi a possíbilidade de uma segunda lista de gêneros que poderiam ser transformados em gêneros únicos, melhorando assim a capacidade de predição."
      ]
    },
    {
      "cell_type": "code",
      "execution_count": null,
      "metadata": {
        "id": "pQUNx7rmyb2j"
      },
      "outputs": [],
      "source": [
        "toReplace = [(u'Acid western', [u'Western']),(u'Action Comedy', [u'Action', u'Comedy']),(u'Action Thrillers', [u'Action', u'Thriller']),(u'Addiction Drama', [u'Drama']),(u'Adventure Comedy',[u'Adventure', u'Comedy']),(u'Alien Film', [u'Creature Film', u'Science Fiction']),(u'Alien invasion', [u'Creature Film', u'Science Fiction']),(u'Animated Musical', [u'Animation']),(u'Animated cartoon', [u'Animation']),(u'Anime', [u'Animation']),(u'Auto racing', [u'Sports']),(u'Backstage Musical', [u'Musical']),(u'Baseball', [u'Sports']),(u'Biker Film', [u'Road movie']),(u'Biographical film', [u'Biography']),(u'Black comedy', [u'Comedy']),(u'Boxing', [u'Sports']),(u'Breakdance', [u'Dance']),(u'Buddy cop', [u'Crime']),(u'Caper story', [u'Crime', u'Comedy']),(u'Chick flick', [u'Romance']),(u'Childhood Drama',[u'Drama']),(u'Christian film', [u'Religious Film']),(u'Clay animation', [u'Animation']),\n",
        "             (u'Combat Films', [u'Action']),(u'Comdedy',[u'Comedy']),(u'Comedy Thriller', [u'Comedy', u'Thriller']),(u'Comedy Western', [u'Comedy', u'Western']),(u'Comedy film', [u'Comedy']),(u'Comedy horror', [u'Comedy', u'Horror']),(u'Comedy of Errors', [u'Comedy']),(u'Comedy of manners', [u'Comedy']),(u'Computer Animation', [u'Animation']),(u'Concert film', [u'Music']),(u'Conspiracy fiction', [u'Thriller']),(u'Costume Adventure', [u'Adventure']),(u'Costume Horror', [u'Horror']),(u'Costume drama', [u'Drama']),(u'Courtroom Comedy',[u'Courtroom', u'Comedy']),(u'Courtroom Drama',[u'Courtroom', u'Drama']),(u'Creature Film', [u'Monster']), (u'Crime Comedy', [u'Crime', u'Comedy']),(u'Crime Drama', [u'Crime', u'Drama']),(u'Crime Fiction', [u'Crime']),(u'Crime Thriller', [u'Crime', u'Thriller']),(u'Demonic child', [u'Horror']),(u'Detective fiction', [u'Detective']),(u'Docudrama', [u'Drama']),(u'Domestic Comedy', [u'Comedy']),(u'Ealing Comedies', [u'Comedy']),(u'Epic Western', [u'Epic', u'Western']),(u'Erotic Drama', [u'Adult', u'Drama']),(u'Erotic thriller', [u'Adult', u'Thriller']),(u'Erotica', [u'Adult']),(u'Extreme Sports', [u'Sports']),(u'Family Drama', [u'Family Film', u'Drama']),\n",
        "             (u'Fairy Tale', [u'Fantasy']),(u'Fairy tale', [u'Fantasy']),(u'Fantasy Adventure', [u'Fantasy', u'Adventure']),(u'Fantasy Comedy', [u'Fantasy', u'Comedy']),(u'Fantasy Drama', [u'Fantasy', u'Drama']),(u'Future noir', [u'Film noir']),(u'Gangster Film', [u'Crime']),(u'Gay', [u'LGBT']),(u'Gay Interest', [ u'LGBT']),(u'Gay Themed', [ u'LGBT']), (u'Gay pornography', [ u'LGBT', u'Adult']),(u'Gender Issues', [u'LGBT']),(u'Glamorized Spy Film', [u'Spy']),\n",
        "             (u'Gulf War', [u'War film']),(u'Haunted House Film', [u'Horror']),(u'Hardcore pornography', [u'Adult']),(u'Heavenly Comedy', [u'Comedy']),(u'Heist', [u'Crime']),(u'Hip hop movies', [u'Music']),(u'Historical Documentaries', [u'History', u'Documentary']),(u'Historical Epic', [u'History']),(u'Historical drama', [u'History']),(u'Historical Drama', [u'History', u'Drama']),(u'Historical fiction', [u'History']),(u'Homoeroticism', [u'Adult', u'LGBT']),(u'Horror Comedy', [u'Horror', u'Comedy']),(u'Horse racing', [u'Sport']),(u'Humour', [u'Comedy']),(u'Hybrid Western', [u'Western']),(u'Indian Western', [u'Western']),(u'Inspirational Drama', [u'Drama']),(u'Instrumental Music', [u'Music']),(u'Interpersonal Relationships', [u'Drama']),(u'Jukebox musical', [u'Musical']),(u'Legal drama', [u'Courtroom']),(u'Marriage Drama', [u'Drama']),(u'Master Criminal Films', [u'Crime']),(u'Media Satire', [u'Comedy']),\n",
        "             (u'Melodrama', [u'Drama']),(u'Mockumentary', [u'Comedy']),(u'Monster movie', [u'Monster']),(u'Movies About Gladiators', [u'History', u'Action']),(u'Musical Drama', [u'Musical', u'Drama']),(u'Musical comedy', [u'Musical', u'Comedy']), (u'Mythological Fantasy',[u'Fantasy']),(u'Natural disaster', [u'Disaster']), (u'Natural horror films', [u'Horror']),(u'Ninja movie', [u'Martial Arts Film']),(u'Operetta', [u'Musical']),(u'Outlaw', [u'Crime']),(u'Outlaw biker film', [u'Crime', u'Road movie']),(u'Parody', [u'Comedy']),(u'Period Horror', [u'Period', u'Horror']),(u'Period piece', [u'Period']),(u'Political cinema', [u'Politics']),(u'Political drama', [u'Politics', u'Drama']),(u'Political satire', [u'Politics', u'Comedy']),(u'Political thriller', [u'Politics', u'Thriller']),(u'Pornographic movie', [u'Adult']),(u'Pornography', [u'Adult']),(u'Prison', [u'Crime']),(u'Prison escape', [u'Crime']),(u'Prison film', [u'Crime']),(u'Psychological horror', [u'Horror']),(u'Psychological thriller', [u'Thriller']),\n",
        "             (u'Punk rock', [u'Music']),(u'Race movie', ['Sports']),(u'Revisionist Fairy Tale', [u'Fantasy']),(u'Revisionist Western', [u'Western']),(u'Rockumentary', [u'Documentary', u'Music']),(u'Romance Film', [u'Romance']),(u'Romantic Film', [u'Romance']),(u'Romantic comedy', [u'Romance', u'Comedy']),(u'Romantic drama', [u'Romance', u'Drama']),(u'Romantic fantasy', [u'Romance', u'Fantasy']),(u'Samurai cinema', [u'Martial Arts Film']),(u'Satire', [u'Comedy']),(u'Sci Fi Pictures original films', [u'Science Fiction']),(u'Science fiction Western', [u'Science Fiction', u'Western']),(u'Screwball comedy', [u'Comedy']),(u'Sex comedy', [u'Comedy']),(u'Slapstick', [u'Comedy']),(u'Slasher', [u'Horror']),(u'Softcore Porn', [u'Adult']),(u'Space opera', [u'Science Fiction', u'Musical']),(u'Space western', [u'Science Fiction', u'Western']),(u'Spaghetti Western', [u'Western']),(u'Spaghetti western', [u'Western']),(u'Splatter film', [u'Horror']),(u'Sport', [ u'Sports']),(u'Stop motion', [u'Animation']),(u'Supermarionation', [u'Animation']),(u'Swashbuckler films', [u'Adventure']),\n",
        "             (u'Therimin music', [u'Music']), (u'Time travel', [u'Science Fiction']),(u'Tragicomedy', [u'Comedy', u'Tragedy']),(u'Vampire movies', [u'Horror']),(u'War effort', [u'War film']),(u'Werewolf fiction', [u'Monster']),(u'Whodunit', [u'Detective']),(u'Women in prison films', [u'Prison']),(u'World History', [u'History']),(u'Workplace Comedy', [u'Comedy']),(u'Zombie Film', [u'Monster'])]"
      ]
    },
    {
      "cell_type": "markdown",
      "metadata": {
        "id": "iO1x2JQeyb2k"
      },
      "source": [
        "Aas funções a seguir são para mudar ou remover os gêneros de acordo com as listas acima."
      ]
    },
    {
      "cell_type": "code",
      "execution_count": null,
      "metadata": {
        "id": "7JRyiKsyyb2k"
      },
      "outputs": [],
      "source": [
        "class wordRemover():\n",
        "    def __init__(self, word):\n",
        "        self.word = word\n",
        "\n",
        "    def removeWord(self, listOfWords):\n",
        "        if self.word in listOfWords:\n",
        "            index = listOfWords.index(self.word)\n",
        "            del listOfWords[index]\n",
        "        return listOfWords"
      ]
    },
    {
      "cell_type": "code",
      "execution_count": null,
      "metadata": {
        "collapsed": true,
        "id": "xfdxKqNHyb2k"
      },
      "outputs": [],
      "source": [
        "class wordReplacer():\n",
        "    def __init__(self, word, replacements):\n",
        "        self.word = word\n",
        "        self.replacements = replacements\n",
        "\n",
        "    def replaceWord(self, listOfWords):\n",
        "        if self.word in listOfWords:\n",
        "            index = listOfWords.index(self.word)\n",
        "            del listOfWords[index]\n",
        "            for replacement in self.replacements:\n",
        "                if replacement not in listOfWords:\n",
        "                    listOfWords.append(replacement)\n",
        "        return listOfWords"
      ]
    },
    {
      "cell_type": "code",
      "execution_count": null,
      "metadata": {
        "collapsed": true,
        "id": "qm7ku2_Qyb2l"
      },
      "outputs": [],
      "source": [
        "for word in toDelete:\n",
        "    result.genres = result.genres.apply(wordRemover(word).removeWord)\n",
        "\n",
        "for word, replacements in toReplace:\n",
        "    result.genres = result.genres.apply(wordReplacer(word, replacements).replaceWord)\n"
      ]
    },
    {
      "cell_type": "markdown",
      "metadata": {
        "id": "YYYjp4iJyb2m"
      },
      "source": [
        "Agora binarizando as labels, encontramos 40 labels unicas"
      ]
    },
    {
      "cell_type": "code",
      "execution_count": null,
      "metadata": {
        "id": "NMIGbYp8yb2m"
      },
      "outputs": [],
      "source": [
        "binarizer = MultiLabelBinarizer()\n",
        "y = binarizer.fit_transform(result.genres)"
      ]
    },
    {
      "cell_type": "code",
      "execution_count": null,
      "metadata": {
        "colab": {
          "base_uri": "https://localhost:8080/"
        },
        "id": "PR2ouUbHyb2m",
        "outputId": "528fb347-0e63-4900-e1b1-ccaf8f59d4e9",
        "scrolled": true
      },
      "outputs": [
        {
          "data": {
            "text/plain": [
              "array(['Action', 'Adult', 'Adventure', 'Animation', 'Biography', 'Comedy',\n",
              "       'Courtroom', 'Crime', 'Dance', 'Detective', 'Disaster',\n",
              "       'Documentary', 'Drama', 'Dystopia', 'Epic', 'Family Film',\n",
              "       'Fantasy', 'Film noir', 'History', 'Horror', 'LGBT',\n",
              "       'Martial Arts Film', 'Monster', 'Music', 'Musical', 'Mystery',\n",
              "       'Period', 'Politics', 'Prison', 'Religious Film', 'Road movie',\n",
              "       'Romance', 'Science Fiction', 'Silent film', 'Sports', 'Spy',\n",
              "       'Supernatural', 'Suspense', 'Teen', 'Thriller', 'Tragedy',\n",
              "       'War film', 'Western'], dtype=object)"
            ]
          },
          "execution_count": 22,
          "metadata": {},
          "output_type": "execute_result"
        }
      ],
      "source": [
        "binarizer.classes_"
      ]
    },
    {
      "cell_type": "markdown",
      "metadata": {
        "id": "XtoMEPxIyb2n"
      },
      "source": [
        "Os dados de gêneros são armazenados como 1s e 0s."
      ]
    },
    {
      "cell_type": "code",
      "execution_count": null,
      "metadata": {
        "colab": {
          "base_uri": "https://localhost:8080/"
        },
        "id": "ipeopnTbyb2n",
        "outputId": "6a14540f-9027-48c7-a8e1-e153fda40f9d"
      },
      "outputs": [
        {
          "data": {
            "text/plain": [
              "array([[1, 0, 0, 1, 0, 1, 0, 0, 0, 0, 0, 0, 1, 0, 0, 0, 1, 0, 0, 1, 0, 0,\n",
              "        1, 0, 0, 0, 0, 0, 0, 0, 0, 0, 1, 0, 0, 0, 0, 0, 0, 0, 0, 0, 0]])"
            ]
          },
          "execution_count": 23,
          "metadata": {},
          "output_type": "execute_result"
        }
      ],
      "source": [
        "y[:1]"
      ]
    },
    {
      "cell_type": "markdown",
      "metadata": {
        "id": "-AKz7YDsDCKY"
      },
      "source": [
        "Podemos fazer a operação inversa para descobrirmos qual gênero o vetor representa."
      ]
    },
    {
      "cell_type": "code",
      "execution_count": null,
      "metadata": {
        "colab": {
          "base_uri": "https://localhost:8080/"
        },
        "id": "ze0glJjdyb2o",
        "outputId": "37661312-de97-4b8d-9981-f902fc875808"
      },
      "outputs": [
        {
          "data": {
            "text/plain": [
              "[('Action',\n",
              "  'Animation',\n",
              "  'Comedy',\n",
              "  'Drama',\n",
              "  'Fantasy',\n",
              "  'Horror',\n",
              "  'Monster',\n",
              "  'Science Fiction')]"
            ]
          },
          "execution_count": 24,
          "metadata": {},
          "output_type": "execute_result"
        }
      ],
      "source": [
        "binarizer.inverse_transform(y[:1])"
      ]
    },
    {
      "cell_type": "markdown",
      "metadata": {
        "id": "TCTm7f_iDK1I"
      },
      "source": [
        "Agoras vamos fazer o split nos dados para treino e teste."
      ]
    },
    {
      "cell_type": "code",
      "execution_count": null,
      "metadata": {
        "collapsed": true,
        "id": "a2Tjrf2kyb2q"
      },
      "outputs": [],
      "source": [
        "X_train, X_test, y_train, y_test = train_test_split(result.synopsis,y,\n",
        "                                                    train_size=0.7, random_state = 9588)"
      ]
    },
    {
      "cell_type": "markdown",
      "metadata": {
        "id": "W91psQ-Wyb2r"
      },
      "source": [
        "Plotando a distribuição de gêneros no dataset."
      ]
    },
    {
      "cell_type": "code",
      "execution_count": null,
      "metadata": {
        "colab": {
          "base_uri": "https://localhost:8080/",
          "height": 494
        },
        "id": "5UDMgQVpyb2s",
        "outputId": "7e985108-da97-41be-867a-9fd7b19b87e0"
      },
      "outputs": [
        {
          "data": {
            "text/plain": [
              "Text(0, 0.5, 'Número de generos')"
            ]
          },
          "execution_count": 67,
          "metadata": {},
          "output_type": "execute_result"
        },
        {
          "data": {
            "image/png": "[encoded data removed]",
            "text/plain": [
              "<Figure size 640x480 with 1 Axes>"
            ]
          },
          "metadata": {},
          "output_type": "display_data"
        }
      ],
      "source": [
        "labelCounts = y_train.sum(axis=0)\n",
        "n, bins, patches = plt.hist(labelCounts, bins=np.logspace(1, 4, 9))\n",
        "plt.semilogx()\n",
        "plt.title(\"Distribuição de contagem de gêneros\")\n",
        "plt.xlabel(\"Número de filmes de um determinado gênero\")\n",
        "plt.ylabel(\"Número de gêneros\")"
      ]
    },
    {
      "cell_type": "markdown",
      "metadata": {
        "id": "xxWcONRMyb2t"
      },
      "source": [
        "## 2. Análises de Feature"
      ]
    },
    {
      "cell_type": "markdown",
      "metadata": {
        "id": "AjCb5S6j_p12"
      },
      "source": [
        "Fazendo analise em cima de Comedy, devido a sua grande representatividade no dataset."
      ]
    },
    {
      "cell_type": "code",
      "execution_count": null,
      "metadata": {
        "colab": {
          "base_uri": "https://localhost:8080/"
        },
        "id": "aLvIU2O0yb2u",
        "outputId": "8d8ccef2-2292-4913-de4f-ebbb3cdddbc4"
      },
      "outputs": [
        {
          "data": {
            "text/plain": [
              "0.35711963589076723"
            ]
          },
          "execution_count": 27,
          "metadata": {},
          "output_type": "execute_result"
        }
      ],
      "source": [
        "genreDF = pd.DataFrame(y_train, columns = binarizer.classes_)\n",
        "genreDF.Comedy.sum()/genreDF.Comedy.count()"
      ]
    },
    {
      "cell_type": "markdown",
      "metadata": {
        "id": "MBlLWdqeyb2w"
      },
      "source": [
        "na verdade essa tag está presente em aproximadamente 5% do training set."
      ]
    },
    {
      "cell_type": "code",
      "execution_count": null,
      "metadata": {
        "colab": {
          "base_uri": "https://localhost:8080/"
        },
        "id": "zEG2nC61yb2x",
        "outputId": "f511b0b5-3634-4bd1-f6cb-08d45c29a957"
      },
      "outputs": [
        {
          "data": {
            "text/plain": [
              "0.045405288253142606"
            ]
          },
          "execution_count": 30,
          "metadata": {},
          "output_type": "execute_result"
        }
      ],
      "source": [
        "X_train.str.contains(\"{{\\w*}}\", case=False).mean()"
      ]
    },
    {
      "cell_type": "markdown",
      "metadata": {
        "id": "KqkB_USEJzqt"
      },
      "source": [
        "O ideal é que um transformer seja criado para resover esse problema de maneira que possa ser adicionado em uma pipeline."
      ]
    },
    {
      "cell_type": "code",
      "execution_count": null,
      "metadata": {
        "id": "2vLcKuyzyb2y"
      },
      "outputs": [],
      "source": [
        "def deleteSynopsisTags(X):\n",
        "    return X.str.replace(\"\\s*{{\\w*}}\\s*\", \"\", case=False)\n",
        "\n",
        "deleteSynopsisTagsTransformer = FunctionTransformer(deleteSynopsisTags, validate=False)\n",
        "\n",
        "X_wrangle_1 = deleteSynopsisTagsTransformer.fit_transform(X_train)"
      ]
    },
    {
      "cell_type": "markdown",
      "metadata": {
        "id": "uhoOxAONyb2z"
      },
      "source": [
        "Podemos então ver que o problema da tag foi resolvido."
      ]
    },
    {
      "cell_type": "code",
      "execution_count": null,
      "metadata": {
        "id": "bHUyTlBFyb2z"
      },
      "outputs": [],
      "source": [
        "X_wrangle_1.loc[1952976][:24]"
      ]
    },
    {
      "cell_type": "markdown",
      "metadata": {
        "id": "KVg5R1I9L5fB"
      },
      "source": [
        "Precisamos escolher uma métrica adequada para avaliar os modelos. F1 será nossa escolha devido a sua capacidade de balancear precisão e acurácia. Abaixo segue sua implementação para uma única classe, iremos extender isso para frente."
      ]
    },
    {
      "cell_type": "code",
      "execution_count": null,
      "metadata": {
        "id": "sD6GHNKjyb20"
      },
      "outputs": [],
      "source": [
        "def customF1(hat, actual, **kwargs):\n",
        "    accuracy = ((actual*hat).sum())/actual.sum()\n",
        "    precision = ((actual*hat).sum())/hat.sum()\n",
        "    if accuracy==0 or precision==0:\n",
        "        f1= 0\n",
        "    else:\n",
        "        f1= 2.* pow(pow(accuracy, -1) + pow(precision, -1), -1)\n",
        "    return f1\n",
        "customF1Scorer = make_scorer(customF1, greater_is_better=True)"
      ]
    },
    {
      "cell_type": "markdown",
      "metadata": {
        "id": "UetgAH7AOfJV"
      },
      "source": [
        "Agora podemos ir em direção de encontrar features mais importantes para a qualidade do treinamento. No código a seguir podemos vetorizar as sinopses e printar as 200 palavras mais importantes que dizem se um filme é uma comédia ou não usando $\\chi^2$. Então seguimos realizando um treinamento com as features mais importantes e printando o resultado do cross validation e de treinamento. Imprimir os dois é uma prática interessante para determinar overfitting."
      ]
    },
    {
      "cell_type": "code",
      "execution_count": null,
      "metadata": {
        "id": "sDSZg7JRyb21"
      },
      "outputs": [],
      "source": [
        "def mostImportantFeatrures(X, y):\n",
        "    count = CountVectorizer(lowercase=False, strip_accents='unicode', min_df = 3, stop_words='english')\n",
        "    selector = SelectKBest(chi2, k=200)\n",
        "    X_Vec = count.fit_transform(X, y)\n",
        "    X_select = selector.fit_transform(X_Vec, y)\n",
        "    print(np.unique([name for name, val in zip(count.get_feature_names_out(), selector.get_support()) if val==True]))\n",
        "    MultinomialPipe = Pipeline([\n",
        "                                (\"count\", count),\n",
        "                                (\"selector\", SelectPercentile(chi2)),\n",
        "                                (\"model\", MultinomialNB(alpha = 1e-9, fit_prior=False))\n",
        "                               ])\n",
        "    rs = RandomizedSearchCV(MultinomialPipe, param_distributions={\"selector__percentile\":sp_randint(1, 50)},\n",
        "                            n_iter=10,\n",
        "                            scoring=customF1Scorer, verbose=0,\n",
        "                            refit=True, n_jobs=-1,\n",
        "                            cv=3\n",
        "                           )\n",
        "    rs.fit(X, y)\n",
        "    print(\"grid search best score = \", rs.best_score_)\n",
        "    print(\"grid search best param = \", rs.best_params_)\n",
        "    hYat = rs.predict(X)\n",
        "    print(\"score on training data = \", customF1(y, hYat))"
      ]
    },
    {
      "cell_type": "code",
      "execution_count": null,
      "metadata": {
        "id": "HeVPeWwbyb21"
      },
      "outputs": [],
      "source": [
        "mostImportantFeatrures(X_wrangle_1, genreDF.Comedy)"
      ]
    },
    {
      "cell_type": "markdown",
      "metadata": {
        "id": "xvnBcE9oRlBD"
      },
      "source": [
        "Podemos ver que a maioria das features mais prevalentes são nomes. Embora nomes possam contribuir para predição, é mais provavavel que a repetição de nomes cause overfitting. Devemos remove-los."
      ]
    },
    {
      "cell_type": "code",
      "execution_count": null,
      "metadata": {
        "id": "WRRBFmQqyb22"
      },
      "outputs": [],
      "source": [
        "def noCaps(X):\n",
        "    return X.str.replace(r'([A-Z])\\w+', \"\", case=True)\n",
        "\n",
        "noCapsTransform = FunctionTransformer(noCaps, validate=False)\n",
        "\n",
        "X_wrangle_2 = noCapsTransform.fit_transform(X_wrangle_1)\n",
        "mostImportantFeatrures(X_wrangle_2, genreDF.Comedy)"
      ]
    },
    {
      "cell_type": "code",
      "execution_count": null,
      "metadata": {
        "colab": {
          "background_save": true
        },
        "id": "FWawFgpDyb23"
      },
      "outputs": [],
      "source": [
        "from nltk.stem.porter import *\n",
        "from nltk import tokenize\n",
        "stemmer = PorterStemmer()\n",
        "tokenizer = tokenize.WordPunctTokenizer()\n",
        "def stemCustom(X):\n",
        "    splitStemJoin = lambda string: ' '.join([stemmer.stem(word) for word in tokenizer.tokenize(string)])\n",
        "    return X.apply(splitStemJoin)\n",
        "\n",
        "stemTransform = FunctionTransformer(stemCustom, validate=False)\n",
        "\n",
        "X_wrangle_3 = stemTransform.fit_transform(X_wrangle_2)\n",
        "mostImportantFeatrures(X_wrangle_3, genreDF.Comedy)"
      ]
    },
    {
      "cell_type": "code",
      "execution_count": null,
      "metadata": {
        "id": "ueZe1ScJyb24"
      },
      "outputs": [],
      "source": [
        "mostImportantFeatrures(X_wrangle_3, genreDF.Documentary)"
      ]
    },
    {
      "cell_type": "markdown",
      "metadata": {
        "id": "i3k-s7z3fNpW"
      },
      "source": [
        "Podemos ver que o fit foi bem pior do que foi para comédia, e podemos notar a presença de números, vamos remove-los."
      ]
    },
    {
      "cell_type": "code",
      "execution_count": null,
      "metadata": {
        "collapsed": true,
        "id": "xZLV6xy9yb25"
      },
      "outputs": [],
      "source": [
        "def noDigits(X):\n",
        "    return X.str.replace(r'\\d+\\,?\\.?\\d?', \"\")\n",
        "\n",
        "noDigitsTransform = FunctionTransformer(noDigits, validate=False)\n",
        "\n",
        "X_wrangle_4 = noDigitsTransform.fit_transform(X_wrangle_3)"
      ]
    },
    {
      "cell_type": "code",
      "execution_count": null,
      "metadata": {
        "id": "2gN4wVfRyb26"
      },
      "outputs": [],
      "source": [
        "mostImportantFeatrures(X_wrangle_4, genreDF.Documentary)"
      ]
    },
    {
      "cell_type": "markdown",
      "metadata": {
        "id": "_mUJ0bHyhR_u"
      },
      "source": [
        "Agora podemos tranformar a sinopse vetorizada em um array numpy e juntar todos os passos em uma pipeline de pré-processamento."
      ]
    },
    {
      "cell_type": "code",
      "execution_count": null,
      "metadata": {
        "id": "9uDfnpDBB948"
      },
      "outputs": [],
      "source": [
        "import numpy as np\n",
        "\n",
        "def transformToNp(X):\n",
        "    return np.array(X).flatten()\n",
        "\n",
        "transformToNpTransform = FunctionTransformer(transformToNp, validate=False)\n",
        "\n",
        "X_wrangled = transformToNpTransform.fit_transform(X_wrangle_4)\n",
        "\n",
        "preprocessing = Pipeline([(\"deleteTags\", deleteSynopsisTagsTransformer),\n",
        "                          (\"deleteCapitalizedWords\", noCapsTransform),\n",
        "                          (\"porterStemmer\", stemTransform),\n",
        "                          (\"deleteDigits\", noDigitsTransform),\n",
        "                          (\"toNumpy\", transformToNpTransform)])\n",
        "\n"
      ]
    },
    {
      "cell_type": "markdown",
      "metadata": {
        "id": "AX7rFHrayb28"
      },
      "source": [
        "## 3. Dummy model\n"
      ]
    },
    {
      "cell_type": "markdown",
      "metadata": {
        "id": "isYD88RxiG5s"
      },
      "source": [
        "Antes de partirmos para um dummy model, precisamos generalizar o f1 para multilabel."
      ]
    },
    {
      "cell_type": "code",
      "execution_count": null,
      "metadata": {
        "id": "sbzdlv_Cyb29"
      },
      "outputs": [],
      "source": [
        "def averageF1Micro(y, yPredicted, **kwargs):\n",
        "    return np.mean([f1_score(sub_y, sub_ypredicted, labels=[1], average='micro')\n",
        "                    if sum(sub_ypredicted)!=0 else 0\n",
        "                    for sub_y, sub_ypredicted in zip(y,yPredicted) if sum(sub_y)!=0] )\n",
        "\n",
        "averageF1MicroScorer = make_scorer(averageF1Micro, greater_is_better=True)"
      ]
    },
    {
      "cell_type": "code",
      "execution_count": null,
      "metadata": {
        "collapsed": true,
        "id": "Xi9p472wyb2-"
      },
      "outputs": [],
      "source": [
        "def nMostFrequent(n):\n",
        "    assert(n>0)\n",
        "    frequencies=(genreDF.sum()/genreDF.count())\n",
        "    nMostFrequent = (frequencies.sort_values()[-n:]).index.tolist()\n",
        "    return nMostFrequent"
      ]
    },
    {
      "cell_type": "markdown",
      "metadata": {
        "id": "K3dnipZEyb2_"
      },
      "source": [
        "As 5 labels mais frquenes são:"
      ]
    },
    {
      "cell_type": "code",
      "execution_count": null,
      "metadata": {
        "colab": {
          "base_uri": "https://localhost:8080/"
        },
        "id": "WxROVMCdyb3B",
        "outputId": "b63fa6f6-6b8b-4271-cd9c-e4df69e19310"
      },
      "outputs": [
        {
          "data": {
            "text/plain": [
              "['Crime', 'Romance', 'Thriller', 'Comedy', 'Drama']"
            ]
          },
          "execution_count": 52,
          "metadata": {},
          "output_type": "execute_result"
        }
      ],
      "source": [
        "nMostFrequent(5)"
      ]
    },
    {
      "cell_type": "markdown",
      "metadata": {
        "id": "bBWXT9rPlbh2"
      },
      "source": [
        "Agora algo que podemos fazer é encontrar com o dummy model as labels mais frequentes para cada filme, então usando cross validation, vamos encontrar o número com melhor pontuação."
      ]
    },
    {
      "cell_type": "code",
      "execution_count": null,
      "metadata": {
        "collapsed": true,
        "id": "XoQ-6Pigyb3B"
      },
      "outputs": [],
      "source": [
        "class nMostFrequentClassifier(BaseEstimator, ClassifierMixin):\n",
        "    def __init__(self, n=1):\n",
        "        self.n = n\n",
        "\n",
        "    def fit(self, X, y):\n",
        "        self.occurences_ = np.sum(y, axis=0)\n",
        "        return self\n",
        "\n",
        "    def predict(self, X):\n",
        "        cutOffVal = np.sort(self.occurences_, axis=0)[-self.n]\n",
        "        if (self.occurences_==cutOffVal).sum()==1:\n",
        "            self.nMostFrequent_ = self.occurences_>=cutOffVal\n",
        "        else:\n",
        "            additionalToSelect = self.n - (self.occurences_>cutOffVal).sum()\n",
        "            indexesOfAdditionals = np.argwhere(np.array([0,1,1,1])==1)[:additionalToSelect]\n",
        "            additionals = np.array([[1 if i in indexesOfAdditionals else 0 for i in range(len(self.occurences_))]])\n",
        "            self.nMostFrequent_ = additionals + self.occurences_>cutOffVal\n",
        "        numPredicted = len(X)\n",
        "        return np.array([self.nMostFrequent_.tolist()]*numPredicted)"
      ]
    },
    {
      "cell_type": "markdown",
      "metadata": {
        "id": "KK17nQQjlytt"
      },
      "source": [
        "Vamos tentar predizer as 10 labels mais frequentes e plotar os resultados"
      ]
    },
    {
      "cell_type": "code",
      "execution_count": null,
      "metadata": {
        "colab": {
          "base_uri": "https://localhost:8080/"
        },
        "id": "T-Rq5sh3yb3C",
        "outputId": "eb8ae187-4e12-4bd8-bc47-01713526e701"
      },
      "outputs": [
        {
          "name": "stdout",
          "output_type": "stream",
          "text": [
            "Fitting 3 folds for each of 10 candidates, totalling 30 fits\n",
            "    best score 0.35961446047661566\n",
            "    best param {'nMostFrequent__n': 2}\n"
          ]
        }
      ],
      "source": [
        "pipeDummy = Pipeline([(\"nMostFrequent\", nMostFrequentClassifier())])\n",
        "\n",
        "dummCV = GridSearchCV(pipeDummy, param_grid={\"nMostFrequent__n\":[1,2,3,4,5,6,7,8,9,10]},\n",
        "                          scoring=averageF1MicroScorer, verbose=1,\n",
        "                          refit=False, n_jobs=-1, cv=3)\n",
        "dummCV.fit(X_wrangled, y_train)\n",
        "print(\"    best score\", dummCV.best_score_)\n",
        "print(\"    best param\", dummCV.best_params_)"
      ]
    },
    {
      "cell_type": "code",
      "execution_count": null,
      "metadata": {
        "colab": {
          "base_uri": "https://localhost:8080/",
          "height": 472
        },
        "id": "HwUMTQSTyb3C",
        "outputId": "5475380d-57ab-4883-e1c5-f95df588994d"
      },
      "outputs": [
        {
          "data": {
            "text/plain": [
              "(0.24, 0.38)"
            ]
          },
          "execution_count": 55,
          "metadata": {},
          "output_type": "execute_result"
        },
        {
          "data": {
            "image/png": "[encoded data removed]",
            "text/plain": [
              "<Figure size 640x480 with 1 Axes>"
            ]
          },
          "metadata": {},
          "output_type": "display_data"
        }
      ],
      "source": [
        "plt.plot(range(1, 11), dummCV.cv_results_[\"mean_test_score\"])\n",
        "plt.ylabel(\"test score\")\n",
        "plt.xlabel(\"n preditores mais frequentes\")\n",
        "plt.xlim([0.5, 10.5])\n",
        "plt.ylim([0.24, 0.38])"
      ]
    },
    {
      "cell_type": "markdown",
      "metadata": {
        "id": "ddm1eeazyb3D"
      },
      "source": [
        "# 4. Multilabel classification classes"
      ]
    },
    {
      "cell_type": "markdown",
      "metadata": {
        "id": "beg1aB1tri3s"
      },
      "source": [
        "Como iremos apliacar algoritmos de ML para cada label, alguns podemo aparecer pouquissimas vezes no dataset. Precisamos de uma classe que que não tentara treinar nesse tipo dedado, mas apenas retornar zero nesses casos."
      ]
    },
    {
      "cell_type": "code",
      "execution_count": null,
      "metadata": {
        "id": "D0JVxy9Zyb3E"
      },
      "outputs": [],
      "source": [
        "class MinSampleClassifier(BaseEstimator, MetaEstimatorMixin):\n",
        "    def __init__(self, clf=MultinomialNB(), limit=10, decisionFunction=False):\n",
        "        self.clf = clf\n",
        "        self.limit = limit\n",
        "        self.decisionFunction = decisionFunction\n",
        "\n",
        "    def fit(self, X, y):\n",
        "        if sum(y)<self.limit:\n",
        "            self.dataTooSmall_ = True\n",
        "        else:\n",
        "            self.dataTooSmall_ = False\n",
        "            self.clf.fit(X,y)\n",
        "        return self\n",
        "\n",
        "    def predict(self, X):\n",
        "        if self.dataTooSmall_:\n",
        "            return np.array([np.array([0.])]*X.shape[0])\n",
        "        else:\n",
        "            return self.clf.predict(X)\n",
        "\n",
        "    def decision_function(self, X):\n",
        "        if self.dataTooSmall_:\n",
        "            return np.array([np.array([0.])]*X.shape[0])\n",
        "        elif self.decisionFunction:\n",
        "            return self.clf.decision_function(X)\n",
        "        else:\n",
        "            return self.clf.predict_proba(X)[:,1]"
      ]
    },
    {
      "cell_type": "markdown",
      "metadata": {
        "id": "R30ky_fhrmjD"
      },
      "source": [
        "Os modelos se enquadram em duas categorias. Aqueles, como naive bayes, que podem prever a probabilidade de um determinado ponto de dados ter um rótulo específico e aqueles que utilizam uma função de decisão. Em ambos os casos, há um valor de corte abaixo do qual um ponto de dados é considerado pelo modelo como não tendo esse rótulo, para abordagens que prevêem uma probabilidade esse valor é 0,5 e para modelos que possuem uma função de decisão o valor é 0 (que é o distância de algum limite de decisão). No entanto, esses valores podem não levar à melhor pontuação de f1 e eu gostaria de poder ajustar o limite para obter o melhor ajuste.\n",
        "\n",
        "Vou criar um processo de duas etapas. Primeiro, pegarei um algoritmo de aprendizado de máquina e o usarei para transformar os dados em uma medida de ajuste, seja uma probabilidade ou uma pontuação de função de decisão."
      ]
    },
    {
      "cell_type": "code",
      "execution_count": null,
      "metadata": {
        "collapsed": true,
        "id": "UPEFAMRuyb3E"
      },
      "outputs": [],
      "source": [
        "class PredictionTransformer(BaseEstimator, TransformerMixin, MetaEstimatorMixin):\n",
        "    def __init__(self, clf=MultinomialNB(), decisionFunction=True):\n",
        "        \"\"\"Replaces all features with `clf.predict_proba(X)`\"\"\"\n",
        "        self.clf = clf\n",
        "        self.decisionFunction=decisionFunction\n",
        "\n",
        "    def fit(self, X, y):\n",
        "        self.clf.fit(X, y)\n",
        "        return self\n",
        "\n",
        "    def transform(self, X):\n",
        "        if self.decisionFunction:\n",
        "            return self.clf.decision_function(X)\n",
        "        else:\n",
        "            X_array = np.asarray(X)\n",
        "            probs = self.clf.predict_proba(X)\n",
        "            return [val[:,1] if val.shape[1]==2 else [0]*val.shape[0] for val in probs ]\n",
        "\n"
      ]
    },
    {
      "cell_type": "markdown",
      "metadata": {
        "id": "0xDrK-GZsGvj"
      },
      "source": [
        "A seguir criarei uma classe que permite aumentar ou diminuir o valor do limite. No entanto, isso pode levar a situações em que nenhum rótulo seja previsto. Neste caso, quero prever os n rótulos com as pontuações ou probabilidades mais altas, mesmo que sejam bastante baixas. Um método alternativo seria prever os n rótulos mais frequentes se nenhum deles tivesse uma probabilidade suficientemente alta. Descobri que essa alternativa leva a resultados inferiores."
      ]
    },
    {
      "cell_type": "code",
      "execution_count": null,
      "metadata": {
        "id": "2lU8K7ufyb3F"
      },
      "outputs": [],
      "source": [
        "def thresholdCalc(threshold, minCount, x):\n",
        "    initialThreshold = x>=threshold\n",
        "    if initialThreshold.sum() >=minCount:\n",
        "        return initialThreshold\n",
        "    else:\n",
        "        indexes = np.argpartition(x, -minCount)[-minCount:]\n",
        "        lowerThreshold = x[indexes].min()\n",
        "        if lowerThreshold>0 and minCount<len(x):\n",
        "            return x>=lowerThreshold\n",
        "        else:\n",
        "            return x>0\n",
        "\n",
        "class ThresholdClassifier(BaseEstimator, ClassifierMixin):\n",
        "    def __init__(self, threshold=0.5, minCount = 2, transpose=True):\n",
        "        self.threshold = threshold\n",
        "        self.minCount = minCount\n",
        "        self.transpose=transpose\n",
        "\n",
        "    def fit(self, X, y):\n",
        "        return self\n",
        "\n",
        "    def predict(self, X):\n",
        "        X_array = np.asarray(X)\n",
        "        if self.transpose:\n",
        "            returnVal = np.array([thresholdCalc(self.threshold, self.minCount, sub) for sub in X_array]).T\n",
        "        else:\n",
        "            returnVal = np.array([thresholdCalc(self.threshold, self.minCount, sub) for sub in X_array])\n",
        "        return returnVal\n",
        "\n",
        "    def predict_proba(self, X):\n",
        "        return X"
      ]
    },
    {
      "cell_type": "markdown",
      "metadata": {
        "id": "D8Mcc6uByb3F"
      },
      "source": [
        "## 5. Defining and tuning models"
      ]
    },
    {
      "cell_type": "markdown",
      "metadata": {
        "id": "lG3zIk7XsWM8"
      },
      "source": [
        "O ideal é que todos modelos tenham seus parâmetros tunados usando cross validation. Criaremos código que aplicará essa técnica em cada um dos modelos para podermos encotnrar os melhores parâmetros."
      ]
    },
    {
      "cell_type": "code",
      "execution_count": null,
      "metadata": {
        "collapsed": true,
        "id": "hd8Tr_vAyb3G"
      },
      "outputs": [],
      "source": [
        "def report(results, n_top=3):\n",
        "    for i in range(1, n_top + 1):\n",
        "        candidates = np.flatnonzero(results['rank_test_score'] == i)\n",
        "        for candidate in candidates:\n",
        "            print(\"Model with rank: {0}\".format(i))\n",
        "            print(\"Mean validation score: {0:.3f} (std: {1:.3f})\".format(\n",
        "                  results['mean_test_score'][candidate],\n",
        "                  results['std_test_score'][candidate]))\n",
        "            print(\"Parameters: {0}\".format(results['params'][candidate]))\n",
        "            print(\"\")\n",
        "\n",
        "def crossValidateRandom(X, Y, model, params=None, n_iter=100):\n",
        "    rsCV = RandomizedSearchCV(model, param_distributions=params, n_iter=n_iter,\n",
        "                            scoring=averageF1MicroScorer, verbose=1,\n",
        "                            refit=False, n_jobs=-1,\n",
        "                            cv=3\n",
        "                           )\n",
        "    fittedModel = rsCV.fit(X, Y)\n",
        "    report(rsCV.cv_results_)\n",
        "    return rsCV.best_params_"
      ]
    },
    {
      "cell_type": "code",
      "execution_count": null,
      "metadata": {
        "collapsed": true,
        "id": "PwsGixm6yb3J"
      },
      "outputs": [],
      "source": [
        "count = CountVectorizer(lowercase=False, strip_accents='unicode', stop_words='english')"
      ]
    },
    {
      "cell_type": "markdown",
      "metadata": {
        "id": "U91xN2Nkyb3J"
      },
      "source": [
        "# Naive Bayes\n"
      ]
    },
    {
      "cell_type": "markdown",
      "metadata": {
        "id": "bRs4oou0ujok"
      },
      "source": [
        "Este modelo é a base de qualquer tentativa de análise de texto. Para este modelo, criarei um modelo bayesiano ingênuo para cada gênero e, em seguida, usarei o preditor de limite para encontrar os rótulos mais prováveis.\n",
        "\n",
        "Alguns dos parâmetros que desejo examinar devem ser sampled uniformly, como o limite e a porcentagem de recursos necessários para melhor prever cada rótulo. Outros parâmetros precisam ser amostrados uniformemente no espaço logarítmico, como $\\alpha$ que suaviza a função de likelihood de cada recurso. Para isso eu crio uma distribuição personalizada rápida"
      ]
    },
    {
      "cell_type": "code",
      "execution_count": null,
      "metadata": {
        "collapsed": true,
        "id": "Ac_384U6yb3J"
      },
      "outputs": [],
      "source": [
        "class logUniform():\n",
        "    def __init__(self, low = -9, high = 0):\n",
        "        self.rng = sp_uniform(low, high-low)\n",
        "    def rvs(self, **kwargs):\n",
        "        return 10**(self.rng.rvs(**kwargs))"
      ]
    },
    {
      "cell_type": "code",
      "execution_count": null,
      "metadata": {
        "id": "WzhXzk1Xyb3K"
      },
      "outputs": [],
      "source": [
        "selectThenNBPipe = Pipeline([(\"selector\", SelectPercentile(chi2)),\n",
        "                             (\"prediction\",MultinomialNB())])\n",
        "\n",
        "multipleNB = OneVsRestClassifier(MinSampleClassifier(selectThenNBPipe, decisionFunction=False))\n",
        "\n",
        "naiveBayes = Pipeline([(\"count\",count),\n",
        "                       (\"model\", PredictionTransformer(clf=multipleNB)),\n",
        "                       (\"threshold\", ThresholdClassifier(transpose=False))])\n",
        "\n",
        "NBparams = {\"count__max_df\":sp_uniform(0.8, 1.0),\n",
        "            \"count__min_df\":sp_randint(1,4),\n",
        "            \"model__clf__estimator__clf__prediction__alpha\":logUniform(low=-12, high=0),\n",
        "            \"model__clf__estimator__clf__prediction__fit_prior\":[True, False],\n",
        "            \"model__clf__estimator__clf__selector__percentile\":sp_randint(1, 100),\n",
        "            \"threshold__threshold\":sp_uniform(0, 0.5),\n",
        "            \"threshold__minCount\":sp_randint(2, 6)\n",
        "           }\n",
        "\n",
        "NBModelBestParams = crossValidateRandom(X_wrangled, y_train, naiveBayes, params=NBparams, n_iter=120)\n",
        "naiveBayes.set_params(**NBModelBestParams)"
      ]
    },
    {
      "cell_type": "markdown",
      "metadata": {
        "id": "JpWFrKNb8b3K"
      },
      "source": [
        "Vemos que o melhor resultado do cross validation foi 0.53. É um bom resultado, mas vamos continuar explorando novos modelos."
      ]
    },
    {
      "cell_type": "markdown",
      "metadata": {
        "id": "wmaZRiFSyb3M"
      },
      "source": [
        "# Random Forest\n"
      ]
    },
    {
      "cell_type": "markdown",
      "metadata": {
        "id": "CDC4YvyP8ron"
      },
      "source": [
        "Este modelo é mais fácil de aplicar do que naive bayes, pois lida nativamente com vários labels. No entanto, ainda preciso aplicar o limite. Este modelo foi muito lento para se ajustar à presença de milhares de recursos."
      ]
    },
    {
      "cell_type": "code",
      "execution_count": null,
      "metadata": {
        "id": "977sJTNkyb3O"
      },
      "outputs": [],
      "source": [
        "randomForest = Pipeline([(\"count\", count),\n",
        "                         (\"TruncatedSVD\", TruncatedSVD(n_components=100)),\n",
        "                         (\"model\", PredictionTransformer(clf=RandomForestClassifier(), decisionFunction=False)),\n",
        "                         (\"prob\", ThresholdClassifier())\n",
        "                        ])\n",
        "\n",
        "multiRFParams={\n",
        "               \"model__clf__n_estimators\":[15, 20, 25],\n",
        "               \"model__clf__max_depth\":[10, 20, 25],\n",
        "               \"model__clf__min_samples_split\":[3,5,7],\n",
        "               \"prob__threshold\":[0.4, 0.5],\n",
        "               \"prob__minCount\":[2,3,4]\n",
        "              }\n",
        "\n",
        "randomRFParams={\n",
        "                \"count__max_df\":sp_uniform(0.0, 1.0),\n",
        "                \"count__min_df\":sp_randint(1,4),\n",
        "                \"model__clf__n_estimators\":sp_randint(10, 30),\n",
        "                \"model__clf__max_depth\":sp_randint(5, 50),\n",
        "                \"model__clf__min_samples_split\":sp_randint(2, 8),\n",
        "                \"prob__threshold\":sp_uniform(0, 0.5),\n",
        "                \"prob__minCount\":sp_randint(2, 6)\n",
        "               }\n",
        "\n",
        "randomForestBestParams = crossValidateRandom(X_wrangled, y_train, randomForest,\n",
        "                                             params=randomRFParams, n_iter=120)\n",
        "randomForest.set_params(**randomForestBestParams)"
      ]
    },
    {
      "cell_type": "markdown",
      "metadata": {
        "id": "aFYZPTK386Yg"
      },
      "source": [
        "Uma pontuação de 0.459, mas não é o melhor resultado esperado para esse modelo, possívelmente uma aumento de performance viria de um aumento em n_estimators>"
      ]
    },
    {
      "cell_type": "markdown",
      "metadata": {
        "id": "Y8lPGi5Jyb3Q"
      },
      "source": [
        "# Support Vector Machines"
      ]
    },
    {
      "cell_type": "markdown",
      "metadata": {
        "id": "nzF8kM6E9SHJ"
      },
      "source": [
        "Os modelos SVM são incrivelmente poderosos, mas podem ser muito lentos para ajustar e prever na presença de um grande número de features. Isso é agravado pela necessidade de ajustar um modelo específico para cada um dos 40 rótulos. Por esta razão escolhi o modelo SVC linear simples; modelos mais sofisticados simplesmente eram lentos demais para serem usados."
      ]
    },
    {
      "cell_type": "code",
      "execution_count": null,
      "metadata": {
        "id": "tnOWynoZyb3R"
      },
      "outputs": [],
      "source": [
        "selectThenLinearSVCPipe = Pipeline([(\"selector\", SelectPercentile(chi2)),\n",
        "                                    (\"prediction\",LinearSVC())\n",
        "                                   ])\n",
        "\n",
        "multiplieSVC = OneVsRestClassifier(MinSampleClassifier(selectThenLinearSVCPipe, decisionFunction=True))\n",
        "\n",
        "linearSVC = Pipeline([(\"count\",count),\n",
        "                      (\"model\", PredictionTransformer(multiplieSVC)),\n",
        "                      (\"threshold\", ThresholdClassifier(transpose=False))\n",
        "                     ])\n",
        "\n",
        "randomSVCparams = {\n",
        "                   \"count__max_df\":sp_uniform(0.8, 1.0),\n",
        "                   \"count__min_df\":sp_randint(1,4),\n",
        "                   \"model__clf__estimator__clf__prediction__C\":logUniform(low=-9, high=0),\n",
        "                   \"model__clf__estimator__clf__prediction__loss\":[\"hinge\", \"squared_hinge\"],\n",
        "                   \"model__clf__estimator__clf__prediction__class_weight\":[\"balanced\", None],\n",
        "                   \"model__clf__estimator__clf__selector__percentile\":sp_randint(1, 100),\n",
        "                   \"threshold__threshold\":sp_uniform(0, 5),\n",
        "                   \"threshold__minCount\":sp_randint(2, 6)\n",
        "                  }\n",
        "\n",
        "linearSVCBestParams = crossValidateRandom(X_wrangled, y_train, linearSVC,\n",
        "                                          params=randomSVCparams, n_iter=120)\n",
        "\n",
        "linearSVC.set_params(**linearSVCBestParams)"
      ]
    },
    {
      "cell_type": "markdown",
      "metadata": {
        "id": "ws2w6Iv4yb3S"
      },
      "source": [
        "o resultado foi 0.513, o que é um bom resultado mas ainda não o melhor."
      ]
    },
    {
      "cell_type": "markdown",
      "metadata": {
        "id": "b0smVtKryb3S"
      },
      "source": [
        "# Stochastic Gradient Descent Classifier\n"
      ]
    },
    {
      "cell_type": "markdown",
      "metadata": {
        "id": "w-P36NuA9yjA"
      },
      "source": [
        "Finalmente, uso o Stochastic Gradient Descent Classifier que é muito rápido. Este modelo ajusta uma função de decisão linear de acordo com diferentes mecanismos de loss. Por exemplo, usar loss de log é equivalente a ajustar uma regressão logística. Aqui tentamos várias funções de perda diferentes."
      ]
    },
    {
      "cell_type": "code",
      "execution_count": null,
      "metadata": {
        "id": "_BZht9leyb3S"
      },
      "outputs": [],
      "source": [
        "selectThenSGDCPipe = Pipeline([(\"selector\", SelectPercentile(chi2)),\n",
        "                               (\"prediction\",SGDClassifier())\n",
        "                              ])\n",
        "\n",
        "multipleSGDC = OneVsRestClassifier(MinSampleClassifier(selectThenSGDCPipe, decisionFunction=True))\n",
        "\n",
        "SGDC = Pipeline([(\"count\",count),\n",
        "                 (\"model\", PredictionTransformer(multipleSGDC)),\n",
        "                 (\"threshold\", ThresholdClassifier(transpose=False))\n",
        "                ])\n",
        "\n",
        "SGDCparams = {\n",
        "              \"count__max_df\":sp_uniform(0.8, 1.0),\n",
        "              \"count__min_df\":sp_randint(1,4),\n",
        "              \"model__clf__estimator__clf__prediction__alpha\":logUniform(low=-9, high=0),\n",
        "              \"model__clf__estimator__clf__prediction__loss\":[\"log\", \"modified_huber\", \"perceptron\"],\n",
        "              \"model__clf__estimator__clf__prediction__penalty\":[\"none\", \"l2\", \"l1\", \"elasticnet\"],\n",
        "              \"model__clf__estimator__clf__prediction__n_iter\":sp_randint(2, 20),\n",
        "              \"model__clf__estimator__clf__selector__percentile\":sp_randint(1, 100),\n",
        "              \"threshold__threshold\":sp_uniform(1, 5),\n",
        "              \"threshold__minCount\":sp_randint(2, 6)\n",
        "             }\n",
        "\n",
        "SGDCBestParams = crossValidateRandom(X_wrangled, y_train, SGDC,\n",
        "                                         params=SGDCparams, n_iter=120)\n",
        "SGDC.set_params(**SGDCBestParams)"
      ]
    },
    {
      "cell_type": "markdown",
      "metadata": {
        "id": "5_c4OhKlyb3T"
      },
      "source": [
        "A pontuação final foi de 0.459."
      ]
    },
    {
      "cell_type": "markdown",
      "metadata": {
        "id": "CaWmuHD2yb3T"
      },
      "source": [
        "# Voting"
      ]
    },
    {
      "cell_type": "markdown",
      "metadata": {
        "id": "a-8VinoF_0TI"
      },
      "source": [
        "Agora para finalizar vamos tentar combinar esse modelos para ver se chegamos em um poder de previsão maior. Scikit-Learn possui um ensemble classifiers mas sem suporte para multilabel classification, então precisamos adaptar a classe VotingClassifier."
      ]
    },
    {
      "cell_type": "code",
      "execution_count": null,
      "metadata": {
        "collapsed": true,
        "id": "3co4TlVhyb3T"
      },
      "outputs": [],
      "source": [
        "class MultiLabelVotingClassifier(VotingClassifier):\n",
        "    def fit(self, X, Y):\n",
        "        self.estimators_ = [clf.fit(X, Y) for _, clf in self.estimators]\n",
        "        return self\n",
        "\n",
        "    def predict(self, X):\n",
        "        predictions = self._predict(X)\n",
        "        maj = np.array([np.apply_along_axis(lambda x:np.argmax(np.bincount(x, weights=self.weights)), axis=1, arr=y.astype('int')).tolist() for y in predictions]).T\n",
        "        return maj"
      ]
    },
    {
      "cell_type": "markdown",
      "metadata": {
        "id": "lZDqD-bMARav"
      },
      "source": [
        "Podemos tentar combinações diferentes de modelos e dar pesos diferentes para cada modelo, mas o número de modelos precisa ser ímpar."
      ]
    },
    {
      "cell_type": "code",
      "execution_count": null,
      "metadata": {
        "id": "ni_wJU39yb3U"
      },
      "outputs": [],
      "source": [
        "binaries = [[a,b,c,d] for a in [0,1] for b in [0,1] for c in [0,1] for d in [0,1] if (a+b+c+d)%2==1]\n",
        "sub2for0 = lambda lst : [2 if val==0 else val for val in lst]\n",
        "weights = binaries + [sub2for0(lst) for lst in binaries]\n",
        "weights"
      ]
    },
    {
      "cell_type": "code",
      "execution_count": null,
      "metadata": {
        "id": "KkzxXkZ0yb3U",
        "outputId": "446b0ef5-65b8-4227-9d37-cfcdfbd80913"
      },
      "outputs": [
        {
          "name": "stdout",
          "output_type": "stream",
          "text": [
            "Fitting 3 folds for each of 16 candidates, totalling 48 fits\n"
          ]
        },
        {
          "name": "stderr",
          "output_type": "stream",
          "text": [
            "[Parallel(n_jobs=1)]: Done  48 out of  48 | elapsed: 93.2min finished\n"
          ]
        },
        {
          "name": "stdout",
          "output_type": "stream",
          "text": [
            "grid search best score =  0.575700248579\n",
            "grid search best param =  {'weights': [1, 1, 1, 0]}\n"
          ]
        }
      ],
      "source": [
        "ensembleModel =  MultiLabelVotingClassifier(estimators = [(\"NBModel\",naiveBayes),\n",
        "                                                          (\"randomForestModel\",randomForest),\n",
        "                                                          (\"linearSVCModel\",linearSVC),\n",
        "                                                          (\"SGDC\",SGDC)],\n",
        "                                            voting='hard', n_jobs = -1)\n",
        "\n",
        "ensembleParams = {\"weights\" : weights}\n",
        "ensemble = GridSearchCV(ensembleModel, param_grid=ensembleParams,\n",
        "                        scoring=customF1Scorer, verbose=1, refit=True, n_jobs=1, cv=3)\n",
        "\n",
        "ensemble.fit(X_wrangled, y_train)\n",
        "print(\"grid search best score = \", ensemble.best_score_)\n",
        "print(\"grid search best param = \", ensemble.best_params_)"
      ]
    },
    {
      "cell_type": "markdown",
      "metadata": {
        "id": "E_I1_LXcAllI"
      },
      "source": [
        "O resultado de 0.57 é muito bom, superiror aos resutlados de modelos indívudualmente. Mas o teste abaixo deve responder se temos um modelo que realmente generalizou, ou apenas um modelo com overfitting. Vamos rodar o test set."
      ]
    },
    {
      "cell_type": "markdown",
      "metadata": {
        "id": "37TNk5IFyb3U"
      },
      "source": [
        "# 6. Test Set result"
      ]
    },
    {
      "cell_type": "code",
      "execution_count": null,
      "metadata": {
        "id": "4MWOaQnbyb3V"
      },
      "outputs": [],
      "source": [
        "X_test_wrangled = preprocessing.transform(X_test)\n",
        "y_test_prediction = ensemble.predict(X_test_wrangled)\n",
        "averageF1Micro(y_test, y_test_prediction)"
      ]
    },
    {
      "cell_type": "markdown",
      "metadata": {
        "id": "RN9PFUo8yb3V"
      },
      "source": [
        "# f1$_{micro}$ test score = 0.57\n"
      ]
    },
    {
      "cell_type": "markdown",
      "metadata": {
        "id": "hmKg7QUvBALY"
      },
      "source": [
        "Esse é um resultado muito bom, príncipalmente pelo resultado ser muito próximo do resultado em treino, isso demosntra uma boa generalização do modelo."
      ]
    }
  ],
  "metadata": {
    "colab": {
      "provenance": []
    },
    "kernelspec": {
      "display_name": "Python 2",
      "language": "python",
      "name": "python2"
    },
    "language_info": {
      "codemirror_mode": {
        "name": "ipython",
        "version": 2
      },
      "file_extension": ".py",
      "mimetype": "text/x-python",
      "name": "python",
      "nbconvert_exporter": "python",
      "pygments_lexer": "ipython2",
      "version": "2.7.10"
    }
  },
  "nbformat": 4,
  "nbformat_minor": 0
}
